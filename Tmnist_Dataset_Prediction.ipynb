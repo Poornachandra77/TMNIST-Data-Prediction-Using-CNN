{
  "nbformat": 4,
  "nbformat_minor": 0,
  "metadata": {
    "colab": {
      "provenance": []
    },
    "kernelspec": {
      "name": "python3",
      "display_name": "Python 3"
    },
    "language_info": {
      "name": "python"
    }
  },
  "cells": [
    {
      "cell_type": "markdown",
      "source": [
        "# **TMNIST DATASET PREDICTION**"
      ],
      "metadata": {
        "id": "fZi-LqI3SYkY"
      }
    },
    {
      "cell_type": "markdown",
      "source": [
        "\n",
        "The first column contains represents the font name (ex-Chivo-Italic, Sen-Bold), the second column represents the label (a number from 0-9) and the remaining 784 elements represent the grayscale pixel values (from 0-255) for the 28x28 pixel image."
      ],
      "metadata": {
        "id": "_hynwDPflUz3"
      }
    },
    {
      "cell_type": "markdown",
      "source": [
        "## **Linking the Dataset**"
      ],
      "metadata": {
        "id": "cn_VxE5KW-Yu"
      }
    },
    {
      "cell_type": "code",
      "source": [
        "!pip install -q kaggle\n",
        "from google.colab import files\n",
        "files.upload()"
      ],
      "metadata": {
        "id": "x_Nlqw760ZD5",
        "colab": {
          "base_uri": "https://localhost:8080/",
          "height": 92
        },
        "outputId": "9ebee6c3-c320-4547-8d8d-703c7b6e020b"
      },
      "execution_count": 1,
      "outputs": [
        {
          "output_type": "display_data",
          "data": {
            "text/plain": [
              "<IPython.core.display.HTML object>"
            ],
            "text/html": [
              "\n",
              "     <input type=\"file\" id=\"files-01db82ad-b2fc-423a-b0c1-198d1af72d8e\" name=\"files[]\" multiple disabled\n",
              "        style=\"border:none\" />\n",
              "     <output id=\"result-01db82ad-b2fc-423a-b0c1-198d1af72d8e\">\n",
              "      Upload widget is only available when the cell has been executed in the\n",
              "      current browser session. Please rerun this cell to enable.\n",
              "      </output>\n",
              "      <script>// Copyright 2017 Google LLC\n",
              "//\n",
              "// Licensed under the Apache License, Version 2.0 (the \"License\");\n",
              "// you may not use this file except in compliance with the License.\n",
              "// You may obtain a copy of the License at\n",
              "//\n",
              "//      http://www.apache.org/licenses/LICENSE-2.0\n",
              "//\n",
              "// Unless required by applicable law or agreed to in writing, software\n",
              "// distributed under the License is distributed on an \"AS IS\" BASIS,\n",
              "// WITHOUT WARRANTIES OR CONDITIONS OF ANY KIND, either express or implied.\n",
              "// See the License for the specific language governing permissions and\n",
              "// limitations under the License.\n",
              "\n",
              "/**\n",
              " * @fileoverview Helpers for google.colab Python module.\n",
              " */\n",
              "(function(scope) {\n",
              "function span(text, styleAttributes = {}) {\n",
              "  const element = document.createElement('span');\n",
              "  element.textContent = text;\n",
              "  for (const key of Object.keys(styleAttributes)) {\n",
              "    element.style[key] = styleAttributes[key];\n",
              "  }\n",
              "  return element;\n",
              "}\n",
              "\n",
              "// Max number of bytes which will be uploaded at a time.\n",
              "const MAX_PAYLOAD_SIZE = 100 * 1024;\n",
              "\n",
              "function _uploadFiles(inputId, outputId) {\n",
              "  const steps = uploadFilesStep(inputId, outputId);\n",
              "  const outputElement = document.getElementById(outputId);\n",
              "  // Cache steps on the outputElement to make it available for the next call\n",
              "  // to uploadFilesContinue from Python.\n",
              "  outputElement.steps = steps;\n",
              "\n",
              "  return _uploadFilesContinue(outputId);\n",
              "}\n",
              "\n",
              "// This is roughly an async generator (not supported in the browser yet),\n",
              "// where there are multiple asynchronous steps and the Python side is going\n",
              "// to poll for completion of each step.\n",
              "// This uses a Promise to block the python side on completion of each step,\n",
              "// then passes the result of the previous step as the input to the next step.\n",
              "function _uploadFilesContinue(outputId) {\n",
              "  const outputElement = document.getElementById(outputId);\n",
              "  const steps = outputElement.steps;\n",
              "\n",
              "  const next = steps.next(outputElement.lastPromiseValue);\n",
              "  return Promise.resolve(next.value.promise).then((value) => {\n",
              "    // Cache the last promise value to make it available to the next\n",
              "    // step of the generator.\n",
              "    outputElement.lastPromiseValue = value;\n",
              "    return next.value.response;\n",
              "  });\n",
              "}\n",
              "\n",
              "/**\n",
              " * Generator function which is called between each async step of the upload\n",
              " * process.\n",
              " * @param {string} inputId Element ID of the input file picker element.\n",
              " * @param {string} outputId Element ID of the output display.\n",
              " * @return {!Iterable<!Object>} Iterable of next steps.\n",
              " */\n",
              "function* uploadFilesStep(inputId, outputId) {\n",
              "  const inputElement = document.getElementById(inputId);\n",
              "  inputElement.disabled = false;\n",
              "\n",
              "  const outputElement = document.getElementById(outputId);\n",
              "  outputElement.innerHTML = '';\n",
              "\n",
              "  const pickedPromise = new Promise((resolve) => {\n",
              "    inputElement.addEventListener('change', (e) => {\n",
              "      resolve(e.target.files);\n",
              "    });\n",
              "  });\n",
              "\n",
              "  const cancel = document.createElement('button');\n",
              "  inputElement.parentElement.appendChild(cancel);\n",
              "  cancel.textContent = 'Cancel upload';\n",
              "  const cancelPromise = new Promise((resolve) => {\n",
              "    cancel.onclick = () => {\n",
              "      resolve(null);\n",
              "    };\n",
              "  });\n",
              "\n",
              "  // Wait for the user to pick the files.\n",
              "  const files = yield {\n",
              "    promise: Promise.race([pickedPromise, cancelPromise]),\n",
              "    response: {\n",
              "      action: 'starting',\n",
              "    }\n",
              "  };\n",
              "\n",
              "  cancel.remove();\n",
              "\n",
              "  // Disable the input element since further picks are not allowed.\n",
              "  inputElement.disabled = true;\n",
              "\n",
              "  if (!files) {\n",
              "    return {\n",
              "      response: {\n",
              "        action: 'complete',\n",
              "      }\n",
              "    };\n",
              "  }\n",
              "\n",
              "  for (const file of files) {\n",
              "    const li = document.createElement('li');\n",
              "    li.append(span(file.name, {fontWeight: 'bold'}));\n",
              "    li.append(span(\n",
              "        `(${file.type || 'n/a'}) - ${file.size} bytes, ` +\n",
              "        `last modified: ${\n",
              "            file.lastModifiedDate ? file.lastModifiedDate.toLocaleDateString() :\n",
              "                                    'n/a'} - `));\n",
              "    const percent = span('0% done');\n",
              "    li.appendChild(percent);\n",
              "\n",
              "    outputElement.appendChild(li);\n",
              "\n",
              "    const fileDataPromise = new Promise((resolve) => {\n",
              "      const reader = new FileReader();\n",
              "      reader.onload = (e) => {\n",
              "        resolve(e.target.result);\n",
              "      };\n",
              "      reader.readAsArrayBuffer(file);\n",
              "    });\n",
              "    // Wait for the data to be ready.\n",
              "    let fileData = yield {\n",
              "      promise: fileDataPromise,\n",
              "      response: {\n",
              "        action: 'continue',\n",
              "      }\n",
              "    };\n",
              "\n",
              "    // Use a chunked sending to avoid message size limits. See b/62115660.\n",
              "    let position = 0;\n",
              "    do {\n",
              "      const length = Math.min(fileData.byteLength - position, MAX_PAYLOAD_SIZE);\n",
              "      const chunk = new Uint8Array(fileData, position, length);\n",
              "      position += length;\n",
              "\n",
              "      const base64 = btoa(String.fromCharCode.apply(null, chunk));\n",
              "      yield {\n",
              "        response: {\n",
              "          action: 'append',\n",
              "          file: file.name,\n",
              "          data: base64,\n",
              "        },\n",
              "      };\n",
              "\n",
              "      let percentDone = fileData.byteLength === 0 ?\n",
              "          100 :\n",
              "          Math.round((position / fileData.byteLength) * 100);\n",
              "      percent.textContent = `${percentDone}% done`;\n",
              "\n",
              "    } while (position < fileData.byteLength);\n",
              "  }\n",
              "\n",
              "  // All done.\n",
              "  yield {\n",
              "    response: {\n",
              "      action: 'complete',\n",
              "    }\n",
              "  };\n",
              "}\n",
              "\n",
              "scope.google = scope.google || {};\n",
              "scope.google.colab = scope.google.colab || {};\n",
              "scope.google.colab._files = {\n",
              "  _uploadFiles,\n",
              "  _uploadFilesContinue,\n",
              "};\n",
              "})(self);\n",
              "</script> "
            ]
          },
          "metadata": {}
        },
        {
          "output_type": "stream",
          "name": "stdout",
          "text": [
            "Saving kaggle.json to kaggle.json\n"
          ]
        },
        {
          "output_type": "execute_result",
          "data": {
            "text/plain": [
              "{'kaggle.json': b'{\"username\":\"poornachandrakongara\",\"key\":\"7a14e14f1b88ab76b5d1911df8624c81\"}'}"
            ]
          },
          "metadata": {},
          "execution_count": 1
        }
      ]
    },
    {
      "cell_type": "code",
      "source": [
        "! mkdir ~/.kaggle\n",
        "! cp kaggle.json ~/.kaggle/\n",
        "! chmod 600 ~/.kaggle/kaggle.json\n",
        "! kaggle datasets list\n",
        "!kaggle datasets download -d nimishmagre/tmnist-typeface-mnist"
      ],
      "metadata": {
        "colab": {
          "base_uri": "https://localhost:8080/"
        },
        "id": "86HjKXfv0xTk",
        "outputId": "05cefab2-27dd-4609-8761-fed85af4ac9f"
      },
      "execution_count": 2,
      "outputs": [
        {
          "output_type": "stream",
          "name": "stdout",
          "text": [
            "ref                                                        title                                           size  lastUpdated          downloadCount  voteCount  usabilityRating  \n",
            "---------------------------------------------------------  ---------------------------------------------  -----  -------------------  -------------  ---------  ---------------  \n",
            "salvatorerastelli/spotify-and-youtube                      Spotify and Youtube                              9MB  2023-03-20 15:43:25           6303        244  1.0              \n",
            "erdemtaha/cancer-data                                      Cancer Data                                     49KB  2023-03-22 07:57:00           2106         53  1.0              \n",
            "ulrikthygepedersen/fastfood-nutrition                      Fastfood Nutrition                              12KB  2023-03-21 10:02:41           2245         45  1.0              \n",
            "lokeshparab/amazon-products-dataset                        Amazon Products Sales Dataset 2023              80MB  2023-03-26 10:45:19           2472         58  1.0              \n",
            "rkiattisak/student-performance-in-mathematics              Student performance prediction                   9KB  2023-03-12 04:32:56           7425        154  1.0              \n",
            "abhishekrp1517/online-retail-transactions-dataset          Online Retail transactions Dataset              29MB  2023-03-28 16:53:16           1062         41  0.9411765        \n",
            "ashishraut64/global-methane-emissions                      Global Emissions.                               31KB  2023-03-27 09:02:51           2210         48  1.0              \n",
            "ashishraut64/internet-users                                Global Internet users                          163KB  2023-03-29 12:25:13           1465         44  1.0              \n",
            "arnabchaki/popular-video-games-1980-2023                   Popular Video Games 1980 - 2023 🎮                1MB  2023-03-23 16:16:51           3179         92  1.0              \n",
            "dgoenrique/netflix-movies-and-tv-shows                     Netflix Movies and TV Shows                      2MB  2023-03-13 18:49:00           3433         85  1.0              \n",
            "priyanshuganwani09/entertainment-movies-tv-shows-database  Entertainment (movies, tv shows) Dataset        47KB  2023-04-02 17:52:36            802         28  1.0              \n",
            "muhammedzidan/car-prices-market                            Car Prices Market                              787KB  2023-04-01 10:07:17           1219         34  1.0              \n",
            "dgoenrique/amazon-prime-movies-and-tv-shows                Amazon Prime Movies and TV Shows                 4MB  2023-03-13 18:50:21           1140         31  1.0              \n",
            "lamiatabassum/top-50-us-tech-companies-2022-2023-dataset   USA Tech Companies Stats                         2KB  2023-03-25 06:06:20           1455         41  1.0              \n",
            "nidzsharma/us-mass-shootings-19822023                      Gun Violence, USA                               31KB  2023-03-28 06:32:25            775         27  0.9411765        \n",
            "prathamsaraf1389/spotify-global-top-50-daily-update        Spotify Global Top 50 (Daily Update)             9MB  2023-04-13 22:09:01            752         33  1.0              \n",
            "edomingo/chatgpt-1000-daily-tweets                         #ChatGPT 1000 Daily 🐦 Tweets                     3MB  2023-04-13 22:39:27            375         31  1.0              \n",
            "usamabuttar/world-happiness-report-2005-present            World Happiness Report, 2005-Present           123KB  2023-03-25 17:38:26           1762         44  1.0              \n",
            "ivnlee/solar-energy-production                             Solar Energy Production                          3MB  2023-03-30 01:50:29            446         27  1.0              \n",
            "mehmettahiraslan/customer-shopping-dataset                 Customer Shopping Dataset - Retail Sales Data    2MB  2023-03-09 07:44:35           4607         90  1.0              \n",
            "Downloading tmnist-typeface-mnist.zip to /content\n",
            " 62% 5.00M/8.07M [00:00<00:00, 34.9MB/s]\n",
            "100% 8.07M/8.07M [00:00<00:00, 46.3MB/s]\n"
          ]
        }
      ]
    },
    {
      "cell_type": "code",
      "source": [
        "!unzip /content/tmnist-typeface-mnist.zip"
      ],
      "metadata": {
        "colab": {
          "base_uri": "https://localhost:8080/"
        },
        "id": "FOp-FgR4HLZ1",
        "outputId": "fbd619d5-2889-4929-a5b4-3eaddc75970a"
      },
      "execution_count": 3,
      "outputs": [
        {
          "output_type": "stream",
          "name": "stdout",
          "text": [
            "Archive:  /content/tmnist-typeface-mnist.zip\n",
            "  inflating: TMNIST_Data.csv         \n"
          ]
        }
      ]
    },
    {
      "cell_type": "markdown",
      "source": [
        "## **Importing Required Libraries**"
      ],
      "metadata": {
        "id": "Ow5DE4ZDXGve"
      }
    },
    {
      "cell_type": "code",
      "source": [
        "import pandas as pd\n",
        "import numpy as np\n",
        "import matplotlib.pyplot as plt\n",
        "from sklearn.model_selection import train_test_split\n",
        "from sklearn.preprocessing import OneHotEncoder\n",
        "from tensorflow.keras.models import Sequential\n",
        "from tensorflow.keras.layers import *\n",
        "from tensorflow.keras.optimizers import Adam\n",
        "from tensorflow.keras.applications import VGG16\n",
        "import warnings\n",
        "warnings.filterwarnings(\"ignore\")"
      ],
      "metadata": {
        "id": "n9ZSinaxzvaR"
      },
      "execution_count": 9,
      "outputs": []
    },
    {
      "cell_type": "markdown",
      "source": [
        "## **Reading the Dataset**\n"
      ],
      "metadata": {
        "id": "zdTKl5arXTPd"
      }
    },
    {
      "cell_type": "code",
      "source": [
        "#reading the dataset\n",
        "df=pd.read_csv('/content/TMNIST_Data.csv')\n",
        "df.head()"
      ],
      "metadata": {
        "colab": {
          "base_uri": "https://localhost:8080/",
          "height": 236
        },
        "id": "a53U_KNnHtLS",
        "outputId": "e6eb6185-7f12-4471-ba6e-420782b0a759"
      },
      "execution_count": 5,
      "outputs": [
        {
          "output_type": "execute_result",
          "data": {
            "text/plain": [
              "                        names  labels  1  2  3  4  5  6  7  8  ...  775  776  \\\n",
              "0          GrandHotel-Regular       2  0  0  0  0  0  0  0  0  ...    0    0   \n",
              "1  EncodeSansCondensed-Medium       8  0  0  0  0  0  0  0  0  ...    0    0   \n",
              "2              Varela-Regular       4  0  0  0  0  0  0  0  0  ...    0    0   \n",
              "3              ArefRuqaa-Bold       3  0  0  0  0  0  0  0  0  ...    0    0   \n",
              "4           KulimPark-Regular       1  0  0  0  0  0  0  0  0  ...    0    0   \n",
              "\n",
              "   777  778  779  780  781  782  783  784  \n",
              "0    0    0    0    0    0    0    0    0  \n",
              "1    0    0    0    0    0    0    0    0  \n",
              "2    0    0    0    0    0    0    0    0  \n",
              "3    0    0    0    0    0    0    0    0  \n",
              "4    0    0    0    0    0    0    0    0  \n",
              "\n",
              "[5 rows x 786 columns]"
            ],
            "text/html": [
              "\n",
              "  <div id=\"df-e4c2fb79-8b71-45fc-aba3-15dae3198be9\">\n",
              "    <div class=\"colab-df-container\">\n",
              "      <div>\n",
              "<style scoped>\n",
              "    .dataframe tbody tr th:only-of-type {\n",
              "        vertical-align: middle;\n",
              "    }\n",
              "\n",
              "    .dataframe tbody tr th {\n",
              "        vertical-align: top;\n",
              "    }\n",
              "\n",
              "    .dataframe thead th {\n",
              "        text-align: right;\n",
              "    }\n",
              "</style>\n",
              "<table border=\"1\" class=\"dataframe\">\n",
              "  <thead>\n",
              "    <tr style=\"text-align: right;\">\n",
              "      <th></th>\n",
              "      <th>names</th>\n",
              "      <th>labels</th>\n",
              "      <th>1</th>\n",
              "      <th>2</th>\n",
              "      <th>3</th>\n",
              "      <th>4</th>\n",
              "      <th>5</th>\n",
              "      <th>6</th>\n",
              "      <th>7</th>\n",
              "      <th>8</th>\n",
              "      <th>...</th>\n",
              "      <th>775</th>\n",
              "      <th>776</th>\n",
              "      <th>777</th>\n",
              "      <th>778</th>\n",
              "      <th>779</th>\n",
              "      <th>780</th>\n",
              "      <th>781</th>\n",
              "      <th>782</th>\n",
              "      <th>783</th>\n",
              "      <th>784</th>\n",
              "    </tr>\n",
              "  </thead>\n",
              "  <tbody>\n",
              "    <tr>\n",
              "      <th>0</th>\n",
              "      <td>GrandHotel-Regular</td>\n",
              "      <td>2</td>\n",
              "      <td>0</td>\n",
              "      <td>0</td>\n",
              "      <td>0</td>\n",
              "      <td>0</td>\n",
              "      <td>0</td>\n",
              "      <td>0</td>\n",
              "      <td>0</td>\n",
              "      <td>0</td>\n",
              "      <td>...</td>\n",
              "      <td>0</td>\n",
              "      <td>0</td>\n",
              "      <td>0</td>\n",
              "      <td>0</td>\n",
              "      <td>0</td>\n",
              "      <td>0</td>\n",
              "      <td>0</td>\n",
              "      <td>0</td>\n",
              "      <td>0</td>\n",
              "      <td>0</td>\n",
              "    </tr>\n",
              "    <tr>\n",
              "      <th>1</th>\n",
              "      <td>EncodeSansCondensed-Medium</td>\n",
              "      <td>8</td>\n",
              "      <td>0</td>\n",
              "      <td>0</td>\n",
              "      <td>0</td>\n",
              "      <td>0</td>\n",
              "      <td>0</td>\n",
              "      <td>0</td>\n",
              "      <td>0</td>\n",
              "      <td>0</td>\n",
              "      <td>...</td>\n",
              "      <td>0</td>\n",
              "      <td>0</td>\n",
              "      <td>0</td>\n",
              "      <td>0</td>\n",
              "      <td>0</td>\n",
              "      <td>0</td>\n",
              "      <td>0</td>\n",
              "      <td>0</td>\n",
              "      <td>0</td>\n",
              "      <td>0</td>\n",
              "    </tr>\n",
              "    <tr>\n",
              "      <th>2</th>\n",
              "      <td>Varela-Regular</td>\n",
              "      <td>4</td>\n",
              "      <td>0</td>\n",
              "      <td>0</td>\n",
              "      <td>0</td>\n",
              "      <td>0</td>\n",
              "      <td>0</td>\n",
              "      <td>0</td>\n",
              "      <td>0</td>\n",
              "      <td>0</td>\n",
              "      <td>...</td>\n",
              "      <td>0</td>\n",
              "      <td>0</td>\n",
              "      <td>0</td>\n",
              "      <td>0</td>\n",
              "      <td>0</td>\n",
              "      <td>0</td>\n",
              "      <td>0</td>\n",
              "      <td>0</td>\n",
              "      <td>0</td>\n",
              "      <td>0</td>\n",
              "    </tr>\n",
              "    <tr>\n",
              "      <th>3</th>\n",
              "      <td>ArefRuqaa-Bold</td>\n",
              "      <td>3</td>\n",
              "      <td>0</td>\n",
              "      <td>0</td>\n",
              "      <td>0</td>\n",
              "      <td>0</td>\n",
              "      <td>0</td>\n",
              "      <td>0</td>\n",
              "      <td>0</td>\n",
              "      <td>0</td>\n",
              "      <td>...</td>\n",
              "      <td>0</td>\n",
              "      <td>0</td>\n",
              "      <td>0</td>\n",
              "      <td>0</td>\n",
              "      <td>0</td>\n",
              "      <td>0</td>\n",
              "      <td>0</td>\n",
              "      <td>0</td>\n",
              "      <td>0</td>\n",
              "      <td>0</td>\n",
              "    </tr>\n",
              "    <tr>\n",
              "      <th>4</th>\n",
              "      <td>KulimPark-Regular</td>\n",
              "      <td>1</td>\n",
              "      <td>0</td>\n",
              "      <td>0</td>\n",
              "      <td>0</td>\n",
              "      <td>0</td>\n",
              "      <td>0</td>\n",
              "      <td>0</td>\n",
              "      <td>0</td>\n",
              "      <td>0</td>\n",
              "      <td>...</td>\n",
              "      <td>0</td>\n",
              "      <td>0</td>\n",
              "      <td>0</td>\n",
              "      <td>0</td>\n",
              "      <td>0</td>\n",
              "      <td>0</td>\n",
              "      <td>0</td>\n",
              "      <td>0</td>\n",
              "      <td>0</td>\n",
              "      <td>0</td>\n",
              "    </tr>\n",
              "  </tbody>\n",
              "</table>\n",
              "<p>5 rows × 786 columns</p>\n",
              "</div>\n",
              "      <button class=\"colab-df-convert\" onclick=\"convertToInteractive('df-e4c2fb79-8b71-45fc-aba3-15dae3198be9')\"\n",
              "              title=\"Convert this dataframe to an interactive table.\"\n",
              "              style=\"display:none;\">\n",
              "        \n",
              "  <svg xmlns=\"http://www.w3.org/2000/svg\" height=\"24px\"viewBox=\"0 0 24 24\"\n",
              "       width=\"24px\">\n",
              "    <path d=\"M0 0h24v24H0V0z\" fill=\"none\"/>\n",
              "    <path d=\"M18.56 5.44l.94 2.06.94-2.06 2.06-.94-2.06-.94-.94-2.06-.94 2.06-2.06.94zm-11 1L8.5 8.5l.94-2.06 2.06-.94-2.06-.94L8.5 2.5l-.94 2.06-2.06.94zm10 10l.94 2.06.94-2.06 2.06-.94-2.06-.94-.94-2.06-.94 2.06-2.06.94z\"/><path d=\"M17.41 7.96l-1.37-1.37c-.4-.4-.92-.59-1.43-.59-.52 0-1.04.2-1.43.59L10.3 9.45l-7.72 7.72c-.78.78-.78 2.05 0 2.83L4 21.41c.39.39.9.59 1.41.59.51 0 1.02-.2 1.41-.59l7.78-7.78 2.81-2.81c.8-.78.8-2.07 0-2.86zM5.41 20L4 18.59l7.72-7.72 1.47 1.35L5.41 20z\"/>\n",
              "  </svg>\n",
              "      </button>\n",
              "      \n",
              "  <style>\n",
              "    .colab-df-container {\n",
              "      display:flex;\n",
              "      flex-wrap:wrap;\n",
              "      gap: 12px;\n",
              "    }\n",
              "\n",
              "    .colab-df-convert {\n",
              "      background-color: #E8F0FE;\n",
              "      border: none;\n",
              "      border-radius: 50%;\n",
              "      cursor: pointer;\n",
              "      display: none;\n",
              "      fill: #1967D2;\n",
              "      height: 32px;\n",
              "      padding: 0 0 0 0;\n",
              "      width: 32px;\n",
              "    }\n",
              "\n",
              "    .colab-df-convert:hover {\n",
              "      background-color: #E2EBFA;\n",
              "      box-shadow: 0px 1px 2px rgba(60, 64, 67, 0.3), 0px 1px 3px 1px rgba(60, 64, 67, 0.15);\n",
              "      fill: #174EA6;\n",
              "    }\n",
              "\n",
              "    [theme=dark] .colab-df-convert {\n",
              "      background-color: #3B4455;\n",
              "      fill: #D2E3FC;\n",
              "    }\n",
              "\n",
              "    [theme=dark] .colab-df-convert:hover {\n",
              "      background-color: #434B5C;\n",
              "      box-shadow: 0px 1px 3px 1px rgba(0, 0, 0, 0.15);\n",
              "      filter: drop-shadow(0px 1px 2px rgba(0, 0, 0, 0.3));\n",
              "      fill: #FFFFFF;\n",
              "    }\n",
              "  </style>\n",
              "\n",
              "      <script>\n",
              "        const buttonEl =\n",
              "          document.querySelector('#df-e4c2fb79-8b71-45fc-aba3-15dae3198be9 button.colab-df-convert');\n",
              "        buttonEl.style.display =\n",
              "          google.colab.kernel.accessAllowed ? 'block' : 'none';\n",
              "\n",
              "        async function convertToInteractive(key) {\n",
              "          const element = document.querySelector('#df-e4c2fb79-8b71-45fc-aba3-15dae3198be9');\n",
              "          const dataTable =\n",
              "            await google.colab.kernel.invokeFunction('convertToInteractive',\n",
              "                                                     [key], {});\n",
              "          if (!dataTable) return;\n",
              "\n",
              "          const docLinkHtml = 'Like what you see? Visit the ' +\n",
              "            '<a target=\"_blank\" href=https://colab.research.google.com/notebooks/data_table.ipynb>data table notebook</a>'\n",
              "            + ' to learn more about interactive tables.';\n",
              "          element.innerHTML = '';\n",
              "          dataTable['output_type'] = 'display_data';\n",
              "          await google.colab.output.renderOutput(dataTable, element);\n",
              "          const docLink = document.createElement('div');\n",
              "          docLink.innerHTML = docLinkHtml;\n",
              "          element.appendChild(docLink);\n",
              "        }\n",
              "      </script>\n",
              "    </div>\n",
              "  </div>\n",
              "  "
            ]
          },
          "metadata": {},
          "execution_count": 5
        }
      ]
    },
    {
      "cell_type": "markdown",
      "source": [
        "## **Key Statistics from the DataFrame: Rows, Columns, Classes, and Fonts**"
      ],
      "metadata": {
        "id": "UdeOSNz6X6e2"
      }
    },
    {
      "cell_type": "markdown",
      "source": [
        "\n",
        "*   Rows represent individual data points, and columns represent the different attributes or features associated with each data point. It helps us understand the size and structure of the data.\n",
        "*   Unique classes (categories or groups) in the 'labels' represent the different types of objects or categories we are trying to classify or predict. It also displays the unique labels present in the 'labels' column, which gives us an idea of the different categories in the data.\n",
        "*   Font column likely represents the different font styles used in the dataset, which could be important for understanding the diversity of fonts used in the data. It helps us identify how many different types of fonts are present in the data.\n",
        "\n"
      ],
      "metadata": {
        "id": "E8D46kyOerDx"
      }
    },
    {
      "cell_type": "code",
      "source": [
        "num_rows, num_cols = df.shape\n",
        "#Number of rows in dataframe\n",
        "print('The number of rows:', num_rows)\n",
        "#Number of columns in dataframe\n",
        "print('The number of columns:', num_cols)\n",
        "\n",
        "#\n",
        "num_classes = df['labels'].nunique()\n",
        "#Total number of unique labels\n",
        "print('The number of classes:', num_classes)\n",
        "print('The labels are:', df['labels'].unique())\n",
        "\n",
        "#Total number of unique fonts\n",
        "num_fonts = df['names'].nunique()\n",
        "print('The number of different types of fonts:', num_fonts)"
      ],
      "metadata": {
        "colab": {
          "base_uri": "https://localhost:8080/"
        },
        "id": "M3N_0G37InKx",
        "outputId": "cdb5f65c-a174-4641-bdf6-594b19c17784"
      },
      "execution_count": 7,
      "outputs": [
        {
          "output_type": "stream",
          "name": "stdout",
          "text": [
            "The number of rows: 29900\n",
            "The number of columns: 786\n",
            "The number of classes: 10\n",
            "The labels are: [2 8 4 3 1 6 5 9 7 0]\n",
            "The number of different types of fonts: 2990\n"
          ]
        }
      ]
    },
    {
      "cell_type": "markdown",
      "source": [
        "## **Visualizing Image Data with Class Labels from DataFrame**"
      ],
      "metadata": {
        "id": "VLqJFfBtYF2S"
      }
    },
    {
      "cell_type": "markdown",
      "source": [
        "\n",
        "\n",
        "*   **Feature columns and class column:** Code defines what data attributes to use as input features (feature columns) and what category to predict (class column).\n",
        "\n",
        "*   **Displaying images:** Code uses matplotlib to show a set of images with their corresponding class labels for visual understanding.\n",
        "\n",
        "*   **Printing shape of feature matrix and target labels:** Code displays the dimensions of the data, including the number of data points and features, and the number of target labels for reference.\n",
        "\n"
      ],
      "metadata": {
        "id": "QFvLasIDfjdo"
      }
    },
    {
      "cell_type": "code",
      "source": [
        "class_column = 'labels'  \n",
        "feature_columns = ['names']  \n",
        "\n",
        "X = df.drop(feature_columns + [class_column], axis=1)\n",
        "y = df[class_column]  # Define the y variable as the class column\n",
        "\n",
        "fig, axes = plt.subplots(1, 15, figsize=(15, 6))\n",
        "for i, ax in enumerate(axes):\n",
        "    ax.set_title(y.iloc[i])  # Update to use the y variable for class labels\n",
        "    ax.imshow(X.values[i].reshape(28, 28), cmap=plt.get_cmap('gray'))\n",
        "    ax.axis('off')\n",
        "plt.show()\n",
        "\n",
        "print(X.shape)  # Print the shape of X (the feature matrix)\n",
        "print(y.shape)  # Print the shape of y (the target labels)"
      ],
      "metadata": {
        "colab": {
          "base_uri": "https://localhost:8080/",
          "height": 160
        },
        "id": "5z9bcGyzJyyP",
        "outputId": "4638b2d6-f1be-4780-8065-9e7eb4bb0567"
      },
      "execution_count": 17,
      "outputs": [
        {
          "output_type": "display_data",
          "data": {
            "text/plain": [
              "<Figure size 1500x600 with 15 Axes>"
            ],
            "image/png": "[encoded data removed]"
          },
          "metadata": {}
        },
        {
          "output_type": "stream",
          "name": "stdout",
          "text": [
            "(29900, 784)\n",
            "(29900,)\n"
          ]
        }
      ]
    },
    {
      "cell_type": "markdown",
      "source": [
        "## **Splitting Data into Train and Test Sets**"
      ],
      "metadata": {
        "id": "TZZuAGPVYlm1"
      }
    },
    {
      "cell_type": "code",
      "source": [
        "X_train, X_test, Y_train, Y_test = train_test_split( X, y, test_size=0.20, random_state=42)"
      ],
      "metadata": {
        "id": "5n1ZFHkyLbLF"
      },
      "execution_count": 22,
      "outputs": []
    },
    {
      "cell_type": "code",
      "source": [
        "print(X_train)\n",
        "print(X_test)"
      ],
      "metadata": {
        "colab": {
          "base_uri": "https://localhost:8080/"
        },
        "id": "pO7oVMsgMuZn",
        "outputId": "2cc03b72-7335-4622-f65e-05b4782785df"
      },
      "execution_count": 23,
      "outputs": [
        {
          "output_type": "stream",
          "name": "stdout",
          "text": [
            "       1  2  3  4  5  6  7  8  9  10  ...  775  776  777  778  779  780  781  \\\n",
            "1256   0  0  0  0  0  0  0  0  0   0  ...    0    0    0    0    0    0    0   \n",
            "15610  0  0  0  0  0  0  0  0  0   0  ...    0    0    0    0    0    0    0   \n",
            "4716   0  0  0  0  0  0  0  0  0   0  ...    0    0    0    0    0    0    0   \n",
            "12927  0  0  0  0  0  0  0  0  0   0  ...    0    0    0    0    0    0    0   \n",
            "10980  0  0  0  0  0  0  0  0  0   0  ...    0    0    0    0    0    0    0   \n",
            "...   .. .. .. .. .. .. .. .. ..  ..  ...  ...  ...  ...  ...  ...  ...  ...   \n",
            "29802  0  0  0  0  0  0  0  0  0   0  ...    0    0    0    0    0    0    0   \n",
            "5390   0  0  0  0  0  0  0  0  0   0  ...    0    0    0    0    0    0    0   \n",
            "860    0  0  0  0  0  0  0  0  0   0  ...    0    0    0    0    0    0    0   \n",
            "15795  0  0  0  0  0  0  0  0  0   0  ...    0    0    0    0    0    0    0   \n",
            "23654  0  0  0  0  0  0  0  0  0   0  ...    0    0    0    0    0    0    0   \n",
            "\n",
            "       782  783  784  \n",
            "1256     0    0    0  \n",
            "15610    0    0    0  \n",
            "4716     0    0    0  \n",
            "12927    0    0    0  \n",
            "10980    0    0    0  \n",
            "...    ...  ...  ...  \n",
            "29802    0    0    0  \n",
            "5390     0    0    0  \n",
            "860      0    0    0  \n",
            "15795    0    0    0  \n",
            "23654    0    0    0  \n",
            "\n",
            "[23920 rows x 784 columns]\n",
            "       1  2  3  4  5  6  7  8  9  10  ...  775  776  777  778  779  780  781  \\\n",
            "15756  0  0  0  0  0  0  0  0  0   0  ...    0    0    0    0    0    0    0   \n",
            "19617  0  0  0  0  0  0  0  0  0   0  ...    0    0    0    0    0    0    0   \n",
            "18973  0  0  0  0  0  0  0  0  0   0  ...    0    0    0    0    0    0    0   \n",
            "16397  0  0  0  0  0  0  0  0  0   0  ...    0    0    0    0    0    0    0   \n",
            "16366  0  0  0  0  0  0  0  0  0   0  ...    0    0    0    0    0    0    0   \n",
            "...   .. .. .. .. .. .. .. .. ..  ..  ...  ...  ...  ...  ...  ...  ...  ...   \n",
            "708    0  0  0  0  0  0  0  0  0   0  ...    0    0    0    0    0    0    0   \n",
            "23587  0  0  0  0  0  0  0  0  0   0  ...    0    0    0    0    0    0    0   \n",
            "27362  0  0  0  0  0  0  0  0  0   0  ...    0    0    0    0    0    0    0   \n",
            "20592  0  0  0  0  0  0  0  0  0   0  ...    0    0    0    0    0    0    0   \n",
            "9934   0  0  0  0  0  0  0  0  0   0  ...    0    0    0    0    0    0    0   \n",
            "\n",
            "       782  783  784  \n",
            "15756    0    0    0  \n",
            "19617    0    0    0  \n",
            "18973    0    0    0  \n",
            "16397    0    0    0  \n",
            "16366    0    0    0  \n",
            "...    ...  ...  ...  \n",
            "708      0    0    0  \n",
            "23587    0    0    0  \n",
            "27362    0    0    0  \n",
            "20592    0    0    0  \n",
            "9934     0    0    0  \n",
            "\n",
            "[5980 rows x 784 columns]\n"
          ]
        }
      ]
    },
    {
      "cell_type": "code",
      "source": [
        "print(Y_train)\n",
        "print(Y_test)\n"
      ],
      "metadata": {
        "colab": {
          "base_uri": "https://localhost:8080/"
        },
        "id": "RH6L7CFWNBzB",
        "outputId": "b01ddc96-5c64-493c-8a08-c7de04241b62"
      },
      "execution_count": 24,
      "outputs": [
        {
          "output_type": "stream",
          "name": "stdout",
          "text": [
            "1256     9\n",
            "15610    0\n",
            "4716     8\n",
            "12927    5\n",
            "10980    8\n",
            "        ..\n",
            "29802    1\n",
            "5390     6\n",
            "860      1\n",
            "15795    7\n",
            "23654    1\n",
            "Name: labels, Length: 23920, dtype: int64\n",
            "15756    3\n",
            "19617    5\n",
            "18973    8\n",
            "16397    9\n",
            "16366    0\n",
            "        ..\n",
            "708      9\n",
            "23587    8\n",
            "27362    3\n",
            "20592    8\n",
            "9934     5\n",
            "Name: labels, Length: 5980, dtype: int64\n"
          ]
        }
      ]
    },
    {
      "cell_type": "markdown",
      "source": [
        "## **Normalizing Pixel Values**"
      ],
      "metadata": {
        "id": "PUpMEwHeY05M"
      }
    },
    {
      "cell_type": "markdown",
      "source": [
        "We scale down the pixel values of our images to a range between 0 and 1 to improve the performance of our neural network models."
      ],
      "metadata": {
        "id": "1uWTKeBYgYAf"
      }
    },
    {
      "cell_type": "code",
      "source": [
        "#To improve the performance of our neural network models, we normalize the pixel values,\n",
        "X_train= (X_train.astype('float32'))/255.0\n",
        "X_test = (X_test.astype('float32'))/255.0"
      ],
      "metadata": {
        "id": "WEb021GDNJ7m"
      },
      "execution_count": 25,
      "outputs": []
    },
    {
      "cell_type": "markdown",
      "source": [
        "## **Converting Class Labels to Binary Representation using One Hot Encoding**\n",
        "\n",
        "\n",
        "\n",
        "\n"
      ],
      "metadata": {
        "id": "ZOl8IMSDY78h"
      }
    },
    {
      "cell_type": "markdown",
      "source": [
        "\n",
        "\n",
        "*   Encoding the categorical labels of our data using a one-hot encoding technique to represent them as binary values, which can be easily understood by the neural network models.\n",
        "*   Convert the labels into a numerical format that the neural network can process, improving its ability to learn and make accurate predictions.\n",
        "\n"
      ],
      "metadata": {
        "id": "7J-rUsqSgrpy"
      }
    },
    {
      "cell_type": "code",
      "source": [
        "#Feature digitization using one hot encoder\n",
        "enc = OneHotEncoder(sparse=False,handle_unknown='ignore')\n",
        "Y_train=enc.fit_transform(Y_train.values.reshape(-1,1))\n",
        "Y_test=  enc.transform(Y_test.values.reshape(-1,1))"
      ],
      "metadata": {
        "id": "Fp1sPy4lNZOQ"
      },
      "execution_count": 26,
      "outputs": []
    },
    {
      "cell_type": "markdown",
      "source": [
        "## **Reshaping Grayscale Images**"
      ],
      "metadata": {
        "id": "L7rOk30nZN4N"
      }
    },
    {
      "cell_type": "markdown",
      "source": [
        "Reshaping the grayscale images from their original shape into a standardized size of 28x28 pixels, which is a common format for image recognition tasks."
      ],
      "metadata": {
        "id": "YRGU3nzfg9p4"
      }
    },
    {
      "cell_type": "code",
      "source": [
        "# Reshape grayscale images to 28x28\n",
        "image_height = 28\n",
        "image_width = 28\n",
        "\n",
        "X_train = X_train.reshape(X_train.shape[0], image_height, image_width)\n",
        "X_test = X_test.reshape(X_test.shape[0], image_height, image_width)\n"
      ],
      "metadata": {
        "id": "76qo_CduORdP"
      },
      "execution_count": 30,
      "outputs": []
    },
    {
      "cell_type": "markdown",
      "source": [
        "## **Building a Neural Network**"
      ],
      "metadata": {
        "id": "J9aSTikkZUYE"
      }
    },
    {
      "cell_type": "markdown",
      "source": [
        "\n",
        "\n",
        "*  Creating a basic neural network model using the Keras Sequential API, which allows us to stack layers on top of each other to create a feedforward neural network.\n",
        "*   The model consists of multiple dense (fully connected) layers with different numbers of hidden units and activation functions (ReLU) to learn complex patterns from the input data.\n",
        "* The last layer of the model uses the softmax activation function to output predicted probabilities for each class in the dataset, and the Adam optimizer is used to optimize the model's parameters during training. The model's architecture and summary are displayed for reference.\n",
        "\n"
      ],
      "metadata": {
        "id": "7YCo2Gf8h9Sw"
      }
    },
    {
      "cell_type": "code",
      "source": [
        "#we choose a basic Neural Network to finish our mission\n",
        "model = Sequential()\n",
        "model.add(Flatten(input_shape=(28,28)))\n",
        "model.add(Dense(512,activation='relu'))\n",
        "model.add(Dense(128,activation='relu'))\n",
        "model.add(Dense(32, activation='relu'))\n",
        "model.add(Dense(num_classes, activation='softmax'))\n",
        "opt = Adam()\n",
        "model.compile(optimizer=opt, loss='categorical_crossentropy', metrics=['accuracy'])\n",
        "model.summary()"
      ],
      "metadata": {
        "colab": {
          "base_uri": "https://localhost:8080/"
        },
        "id": "bth6LFXQPgKp",
        "outputId": "337a88b7-cb3d-4f32-fd0c-2d99df9128bf"
      },
      "execution_count": 31,
      "outputs": [
        {
          "output_type": "stream",
          "name": "stdout",
          "text": [
            "Model: \"sequential\"\n",
            "_________________________________________________________________\n",
            " Layer (type)                Output Shape              Param #   \n",
            "=================================================================\n",
            " flatten (Flatten)           (None, 784)               0         \n",
            "                                                                 \n",
            " dense (Dense)               (None, 512)               401920    \n",
            "                                                                 \n",
            " dense_1 (Dense)             (None, 128)               65664     \n",
            "                                                                 \n",
            " dense_2 (Dense)             (None, 32)                4128      \n",
            "                                                                 \n",
            " dense_3 (Dense)             (None, 10)                330       \n",
            "                                                                 \n",
            "=================================================================\n",
            "Total params: 472,042\n",
            "Trainable params: 472,042\n",
            "Non-trainable params: 0\n",
            "_________________________________________________________________\n"
          ]
        }
      ]
    },
    {
      "cell_type": "markdown",
      "source": [
        "## **Fitting the model**"
      ],
      "metadata": {
        "id": "RlmCwZhoZbNT"
      }
    },
    {
      "cell_type": "code",
      "source": [
        "#fitting the model\n",
        "model_history=model.fit(X_train, Y_train, epochs=10, validation_data=(X_test, Y_test), verbose=2,batch_size=512)"
      ],
      "metadata": {
        "colab": {
          "base_uri": "https://localhost:8080/"
        },
        "id": "8q0cNuvTPkGV",
        "outputId": "14b6417b-dabb-42e5-d8fa-588d1dba1abc"
      },
      "execution_count": 35,
      "outputs": [
        {
          "output_type": "stream",
          "name": "stdout",
          "text": [
            "Epoch 1/10\n",
            "47/47 - 1s - loss: 2.4511e-04 - accuracy: 1.0000 - val_loss: 0.0947 - val_accuracy: 0.9881 - 1s/epoch - 30ms/step\n",
            "Epoch 2/10\n",
            "47/47 - 1s - loss: 2.1386e-04 - accuracy: 1.0000 - val_loss: 0.0960 - val_accuracy: 0.9880 - 1s/epoch - 27ms/step\n",
            "Epoch 3/10\n",
            "47/47 - 1s - loss: 2.0758e-04 - accuracy: 1.0000 - val_loss: 0.0966 - val_accuracy: 0.9880 - 1s/epoch - 27ms/step\n",
            "Epoch 4/10\n",
            "47/47 - 1s - loss: 2.0168e-04 - accuracy: 1.0000 - val_loss: 0.0976 - val_accuracy: 0.9880 - 1s/epoch - 27ms/step\n",
            "Epoch 5/10\n",
            "47/47 - 1s - loss: 1.9120e-04 - accuracy: 1.0000 - val_loss: 0.0977 - val_accuracy: 0.9881 - 1s/epoch - 27ms/step\n",
            "Epoch 6/10\n",
            "47/47 - 1s - loss: 1.8360e-04 - accuracy: 1.0000 - val_loss: 0.0986 - val_accuracy: 0.9880 - 1s/epoch - 31ms/step\n",
            "Epoch 7/10\n",
            "47/47 - 2s - loss: 1.3962e-04 - accuracy: 1.0000 - val_loss: 0.1008 - val_accuracy: 0.9880 - 2s/epoch - 46ms/step\n",
            "Epoch 8/10\n",
            "47/47 - 1s - loss: 1.6468e-04 - accuracy: 1.0000 - val_loss: 0.1007 - val_accuracy: 0.9880 - 1s/epoch - 28ms/step\n",
            "Epoch 9/10\n",
            "47/47 - 1s - loss: 1.4960e-04 - accuracy: 1.0000 - val_loss: 0.1012 - val_accuracy: 0.9881 - 1s/epoch - 27ms/step\n",
            "Epoch 10/10\n",
            "47/47 - 1s - loss: 2.1592e-04 - accuracy: 1.0000 - val_loss: 0.1007 - val_accuracy: 0.9881 - 1s/epoch - 26ms/step\n"
          ]
        }
      ]
    },
    {
      "cell_type": "markdown",
      "source": [
        "## **Calculating Accuracy & Loss**"
      ],
      "metadata": {
        "id": "xj1P5eLFZhYH"
      }
    },
    {
      "cell_type": "code",
      "source": [
        "# Assuming you have already trained your model and obtained predictions\n",
        "y_pred = model.predict(X_test)\n",
        "\n",
        "# Calculate accuracy\n",
        "test_accuracy = model.evaluate(X_test, Y_test)[1]\n",
        "\n",
        "# Calculate loss\n",
        "test_loss = model.evaluate(X_test, Y_test)[0]\n",
        "\n",
        "print('Test loss:', test_loss)\n",
        "print('Test accuracy:', test_accuracy)"
      ],
      "metadata": {
        "colab": {
          "base_uri": "https://localhost:8080/"
        },
        "id": "_dP2uoA8Qxg_",
        "outputId": "db22aa48-7948-421c-81c5-b3c78c899561"
      },
      "execution_count": 38,
      "outputs": [
        {
          "output_type": "stream",
          "name": "stdout",
          "text": [
            "187/187 [==============================] - 1s 6ms/step\n",
            "187/187 [==============================] - 1s 7ms/step - loss: 0.1007 - accuracy: 0.9881\n",
            "187/187 [==============================] - 1s 7ms/step - loss: 0.1007 - accuracy: 0.9881\n",
            "Test loss: 0.1007225438952446\n",
            "Test accuracy: 0.9881271123886108\n"
          ]
        }
      ]
    },
    {
      "cell_type": "markdown",
      "source": [
        "## **Accuracy and Loss vs Epochs Graphs**"
      ],
      "metadata": {
        "id": "921h0T9dZpvi"
      }
    },
    {
      "cell_type": "markdown",
      "source": [
        "Plotting accuracy and loss values of a neural network model during training, using two subplots to show the trends over epochs."
      ],
      "metadata": {
        "id": "6U02P0qUiXMC"
      }
    },
    {
      "cell_type": "code",
      "source": [
        "# Extract accuracy and loss values from model_history\n",
        "accuracy = model_history.history['accuracy']\n",
        "val_accuracy = model_history.history['val_accuracy']\n",
        "loss = model_history.history['loss']\n",
        "val_loss = model_history.history['val_loss']\n",
        "epochs = range(1, len(accuracy) + 1)\n",
        "\n",
        "# Create a figure with two subplots\n",
        "fig, axs = plt.subplots(1, 2, figsize=(14, 6))\n",
        "\n",
        "# Plot accuracy vs epochs\n",
        "axs[0].plot(epochs, accuracy, label='train', color='#851D2D')\n",
        "axs[0].plot(epochs, val_accuracy, label='test', color='#306844')\n",
        "axs[0].set_title('Accuracy vs Epochs')\n",
        "axs[0].set_xlabel('Epochs')\n",
        "axs[0].set_ylabel('Accuracy')\n",
        "axs[0].legend()\n",
        "\n",
        "# Plot loss vs epochs\n",
        "axs[1].plot(epochs, loss, label='train', color='#851D2D')\n",
        "axs[1].plot(epochs, val_loss, label='test', color='#306844')\n",
        "axs[1].set_title('Loss vs Epochs')\n",
        "axs[1].set_xlabel('Epochs')\n",
        "axs[1].set_ylabel('Loss')\n",
        "axs[1].legend()\n",
        "\n",
        "# Display the plots\n",
        "plt.show()"
      ],
      "metadata": {
        "colab": {
          "base_uri": "https://localhost:8080/",
          "height": 564
        },
        "id": "GJWycK9eRthB",
        "outputId": "36c6a2e9-937b-4778-9a4e-6cc2d2e9b50a"
      },
      "execution_count": 39,
      "outputs": [
        {
          "output_type": "display_data",
          "data": {
            "text/plain": [
              "<Figure size 1400x600 with 2 Axes>"
            ],
            "image/png": "[encoded data removed]"
          },
          "metadata": {}
        }
      ]
    },
    {
      "cell_type": "markdown",
      "source": [
        "# **Conclusion**\n",
        "The neural network model achieved a very low loss (2.1592e-04) and a high accuracy (1.0000) on the training data, indicating it has learned the patterns in the data very well. The model also performed well on the test data, with a test loss of 0.1007225438952446 and a test accuracy of 0.9881271123886108, suggesting good generalization performance. Overall, the model can be considered successful in accurately predicting the labels for the given data."
      ],
      "metadata": {
        "id": "Yl359Zr6jP-6"
      }
    },
    {
      "cell_type": "markdown",
      "source": [
        "# **References**\n",
        "1. https://en.wikipedia.org/wiki/Convolutional_neural_network\n",
        "2. https://www.analyticsvidhya.com/blog/2020/02/learn-image-classification-cnn-convolutional-neural-networks-3-datasets/\n",
        "3. https://towardsdatascience.com/using-convolutional-neural-network-for-image-classification-5997bfd0ede4\n",
        "4. https://towardsdatascience.com/optimizers-for-training-neural-network-59450d71caf6\n"
      ],
      "metadata": {
        "id": "Ug8KcT7eZ6kf"
      }
    },
    {
      "cell_type": "markdown",
      "source": [
        "# **LICENSE**\n",
        "\n",
        "MIT License\n",
        "\n",
        "Copyright (c) 2023 Poornachandra Kongara\n",
        "\n",
        "\n",
        "\n",
        "Permission is hereby granted, free of charge, to any person obtaining a copy of this software and associated documentation files (the \"Software\"), to deal in the Software without restriction, including without limitation the rights to use, copy, modify, merge, publish, distribute, sublicense, and/or sell copies of the Software, and to permit persons to whom the Software is furnished to do so, subject to the following conditions:\n",
        "\n",
        "<br>\n",
        "\n",
        "The above copyright notice and this permission notice shall be included in all copies or substantial portions of the Software.\n",
        "\n",
        "<br>\n",
        "\n",
        "\n",
        "\n",
        "THE SOFTWARE IS PROVIDED \"AS IS\", WITHOUT WARRANTY OF ANY KIND, EXPRESS OR IMPLIED, INCLUDING BUT NOT LIMITED TO THE WARRANTIES OF MERCHANTABILITY, FITNESS FOR A PARTICULAR PURPOSE AND NONINFRINGEMENT. IN NO EVENT SHALL THE AUTHORS OR COPYRIGHT HOLDERS BE LIABLE FOR ANY CLAIM, DAMAGES OR OTHER LIABILITY, WHETHER IN AN ACTION OF CONTRACT, TORT OR OTHERWISE, ARISING FROM, OUT OF OR IN CONNECTION WITH THE SOFTWARE OR THE USE OR OTHER DEALINGS IN THE SOFTWARE."
      ],
      "metadata": {
        "id": "7617zExeZ0hV"
      }
    }
  ]
}